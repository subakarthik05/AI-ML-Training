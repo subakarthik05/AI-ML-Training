{
 "cells": [
  {
   "cell_type": "code",
   "execution_count": 5,
   "id": "2ec6653b-5c5c-4dcb-80c7-fb6efef7ba3f",
   "metadata": {},
   "outputs": [],
   "source": [
    "import logging"
   ]
  },
  {
   "cell_type": "code",
   "execution_count": 6,
   "id": "eaf5f4a7-41b9-4fcd-a378-e47ed7a3f2f8",
   "metadata": {},
   "outputs": [],
   "source": [
    "# Set up basic logging\n",
    "logging.basicConfig(\n",
    " filename='etl_log.txt',\n",
    " level=logging.INFO,\n",
    " format='%(asctime)s - %(levelname)s - %(message)s'\n",
    ")\n"
   ]
  },
  {
   "cell_type": "code",
   "execution_count": 7,
   "id": "017e7858-db8c-486c-bd84-646ef1e5e657",
   "metadata": {},
   "outputs": [],
   "source": [
    "import pandas as pd\n",
    "import numpy as np\n",
    "import mysql.connector\n",
    "import datetime"
   ]
  },
  {
   "cell_type": "code",
   "execution_count": 9,
   "id": "1f61236e-795f-48f5-8900-1605cdfe0735",
   "metadata": {},
   "outputs": [
    {
     "name": "stdout",
     "output_type": "stream",
     "text": [
      "Raw data loaded:\n",
      "   EMPLOYEE_ID FIRST_NAME  LAST_NAME     EMAIL  PHONE_NUMBER  HIRE_DATE  \\\n",
      "0          198     Donald   OConnell  DOCONNEL  650.507.9833  21-Jun-07   \n",
      "1          199    Douglas      Grant    DGRANT  650.507.9844  13-Jan-08   \n",
      "2          200   Jennifer     Whalen   JWHALEN  515.123.4444  17-Sep-03   \n",
      "3          201    Michael  Hartstein  MHARTSTE  515.123.5555  17-Feb-04   \n",
      "4          202        Pat        Fay      PFAY  603.123.6666  17-Aug-05   \n",
      "\n",
      "     JOB_ID  SALARY  \n",
      "0  SH_CLERK    2600  \n",
      "1  SH_CLERK    2600  \n",
      "2   AD_ASST    4400  \n",
      "3    MK_MAN   13000  \n",
      "4    MK_REP    6000  \n",
      "['EMPLOYEE_ID', 'FIRST_NAME', 'LAST_NAME', 'EMAIL', 'PHONE_NUMBER', 'HIRE_DATE', 'JOB_ID', 'SALARY']\n"
     ]
    }
   ],
   "source": [
    "csv_file_path = r\"C:\\Users\\muthu\\Downloads\\employees1.csv\"\n",
    "df = pd.read_csv(csv_file_path)\n",
    "print(\"Raw data loaded:\")\n",
    "print(df.head())\n",
    "print(df.columns.tolist())\n",
    "logging.info(\"CSV loaded successfully.\")"
   ]
  },
  {
   "cell_type": "code",
   "execution_count": 10,
   "id": "565bfaaf-86b7-42e9-aaaf-925d8e8fc0d9",
   "metadata": {},
   "outputs": [],
   "source": [
    "# Handle missing values\n",
    "df.fillna({\n",
    " 'EMAIL': 'not_provided@example.com',\n",
    " 'PHONE_NUMBER': '0000000000',\n",
    "     'HIRE_DATE': '01-Jan-00',\n",
    " 'SALARY': 0\n",
    "}, inplace=True)"
   ]
  },
  {
   "cell_type": "code",
   "execution_count": 11,
   "id": "08578d63-844a-43f0-b20e-228358963dcc",
   "metadata": {},
   "outputs": [],
   "source": [
    "# Standardize column names (optional)\n",
    "df.columns = [col.strip().lower().replace(' ', '_') for col in df.columns]"
   ]
  },
  {
   "cell_type": "code",
   "execution_count": 12,
   "id": "2104742e-3d53-4305-8507-75b08652e20a",
   "metadata": {},
   "outputs": [
    {
     "name": "stdout",
     "output_type": "stream",
     "text": [
      "['employee_id', 'first_name', 'last_name', 'email', 'phone_number', 'hire_date', 'job_id', 'salary']\n"
     ]
    }
   ],
   "source": [
    "print(df.columns.tolist())"
   ]
  },
  {
   "cell_type": "code",
   "execution_count": 13,
   "id": "d126a7ea-d73a-45c9-80f2-526e13fd3092",
   "metadata": {},
   "outputs": [],
   "source": [
    "# Convert hire_date from 'dd-MMM-yy' to 'YYYY-MM-DD'\n",
    "df['hire_date'] = pd.to_datetime(df['hire_date'], format='%d-%b-%y',\n",
    "errors='coerce')"
   ]
  },
  {
   "cell_type": "code",
   "execution_count": 14,
   "id": "eb6ecb44-6224-433f-9aa6-0a1e4ee608c6",
   "metadata": {},
   "outputs": [],
   "source": [
    "# Replace invalid dates with a default\n",
    "df['hire_date'] = df['hire_date'].fillna(pd.to_datetime('2000-01-01'))\n",
    "# Replace non-numeric salaries with 0\n",
    "df['salary'] = pd.to_numeric(df['salary'], errors='coerce').fillna(0).astype(int)"
   ]
  },
  {
   "cell_type": "code",
   "execution_count": 15,
   "id": "cd9cc28f-0f0f-43c2-9de3-aa6d9c15ae28",
   "metadata": {},
   "outputs": [],
   "source": [
    "logging.info(\"Data cleaning completed.\")"
   ]
  },
  {
   "cell_type": "code",
   "execution_count": 18,
   "id": "35c9de9a-7115-49a7-a328-2d9cd06514ac",
   "metadata": {},
   "outputs": [],
   "source": [
    "mydb = mysql.connector.connect(\n",
    " host=\"localhost\",\n",
    " user=\"root\",\n",
    " password=\"Muthu@2005\",\n",
    " database=\"employee_jupyter\" # <-- change this\n",
    ")"
   ]
  },
  {
   "cell_type": "code",
   "execution_count": 19,
   "id": "e795f52d-117a-4592-bbd6-355838277e54",
   "metadata": {},
   "outputs": [],
   "source": [
    "cursor = mydb.cursor()"
   ]
  },
  {
   "cell_type": "code",
   "execution_count": 20,
   "id": "5beb0d9d-d4b6-4ec4-a493-343700501f9c",
   "metadata": {},
   "outputs": [],
   "source": [
    "# Create table if not exists\n",
    "cursor.execute(\"\"\"\n",
    " CREATE TABLE IF NOT EXISTS salary_2 (\n",
    " empid INT,\n",
    " firstname VARCHAR(50),\n",
    " lastname VARCHAR(50),\n",
    " email VARCHAR(100),\n",
    " phone VARCHAR(20),\n",
    " hire_date DATE,\n",
    " job_id VARCHAR(20),\n",
    " salary INT\n",
    " )\n",
    "\"\"\")\n"
   ]
  },
  {
   "cell_type": "code",
   "execution_count": 31,
   "id": "4f6b3a8a-ef67-4eaa-97fb-2b7367b6a0cc",
   "metadata": {},
   "outputs": [],
   "source": [
    "# Insert each row into the table\n",
    "for index, row in df.iterrows():\n",
    "     sql = \"\"\"\n",
    " INSERT INTO salary_2 (empid, firstname, lastname, email, phone,\n",
    "hire_date, job_id, salary)\n",
    " VALUES (%s, %s, %s, %s, %s, %s, %s, %s)\n",
    " ON DUPLICATE KEY UPDATE\n",
    " firstname=VALUES(firstname),\n",
    " lastname=VALUES(lastname),\n",
    " email=VALUES(email),\n",
    " phone=VALUES(phone),\n",
    " hire_date=VALUES(hire_date),\n",
    " job_id=VALUES(job_id),\n",
    " salary=VALUES(salary)\n",
    " \"\"\""
   ]
  },
  {
   "cell_type": "code",
   "execution_count": 32,
   "id": "89344385-2d7f-453c-b06e-9446f98ee8cb",
   "metadata": {},
   "outputs": [],
   "source": [
    "values = (\n",
    " int(row['employee_id']),\n",
    " row['first_name'],\n",
    " row['last_name'],\n",
    " row['email'],\n",
    " row['phone_number'],\n",
    " row['hire_date'].date(),\n",
    " row['job_id'],\n",
    " int(row['salary'])\n",
    " )\n"
   ]
  },
  {
   "cell_type": "code",
   "execution_count": 33,
   "id": "79c4e436-e7f6-49b4-a2a6-163a8857a870",
   "metadata": {},
   "outputs": [],
   "source": [
    " cursor.execute(sql, values)"
   ]
  },
  {
   "cell_type": "code",
   "execution_count": 34,
   "id": "e8aba579-9787-42fa-b0d5-9b09e3c0de1d",
   "metadata": {},
   "outputs": [
    {
     "name": "stdout",
     "output_type": "stream",
     "text": [
      "ETL process completed successfully.\n"
     ]
    }
   ],
   "source": [
    "mydb.commit()\n",
    "cursor.close()\n",
    "mydb.close()\n",
    "logging.error(\"Something went wrong\", exc_info=True)\n",
    "print(\"ETL process completed successfully.\")"
   ]
  },
  {
   "cell_type": "code",
   "execution_count": 35,
   "id": "176f238e-8de2-4b9a-8e6e-dcd53fa52944",
   "metadata": {},
   "outputs": [
    {
     "name": "stdout",
     "output_type": "stream",
     "text": [
      "C:\\Users\\muthu\n"
     ]
    }
   ],
   "source": [
    "import os\n",
    "print(os.getcwd())"
   ]
  },
  {
   "cell_type": "code",
   "execution_count": 39,
   "id": "8a4cd934-21a0-4901-b3f3-dd402c357d4a",
   "metadata": {},
   "outputs": [
    {
     "name": "stderr",
     "output_type": "stream",
     "text": [
      "[NbConvertApp] Converting notebook logging.ipynb to script\n",
      "[NbConvertApp] Writing 2741 bytes to logging.py\n"
     ]
    }
   ],
   "source": [
    "get_ipython().system('jupyter nbconvert --to script logging.ipynb')"
   ]
  },
  {
   "cell_type": "code",
   "execution_count": null,
   "id": "1b66ac52-33e9-4d19-81a5-435ccf805e84",
   "metadata": {},
   "outputs": [],
   "source": []
  }
 ],
 "metadata": {
  "kernelspec": {
   "display_name": "Python [conda env:base] *",
   "language": "python",
   "name": "conda-base-py"
  },
  "language_info": {
   "codemirror_mode": {
    "name": "ipython",
    "version": 3
   },
   "file_extension": ".py",
   "mimetype": "text/x-python",
   "name": "python",
   "nbconvert_exporter": "python",
   "pygments_lexer": "ipython3",
   "version": "3.12.7"
  }
 },
 "nbformat": 4,
 "nbformat_minor": 5
}
