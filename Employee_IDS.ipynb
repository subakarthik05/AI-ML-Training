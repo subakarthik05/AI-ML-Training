{
  "nbformat": 4,
  "nbformat_minor": 0,
  "metadata": {
    "colab": {
      "provenance": []
    },
    "kernelspec": {
      "name": "python3",
      "display_name": "Python 3"
    },
    "language_info": {
      "name": "python"
    }
  },
  "cells": [
    {
      "cell_type": "code",
      "execution_count": 1,
      "metadata": {
        "id": "MVvsZtxJaJGa"
      },
      "outputs": [],
      "source": [
        "import pandas as pd\n",
        "import numpy as np"
      ]
    },
    {
      "cell_type": "code",
      "source": [
        "np.random.seed(42)\n"
      ],
      "metadata": {
        "id": "QmkISZlEaSZ_"
      },
      "execution_count": 2,
      "outputs": []
    },
    {
      "cell_type": "code",
      "source": [
        "employee_ids = [f\"EMP_{i:03d}\"for i in range(1,31)]\n",
        "dates = pd. date_range(\"2025-07-01\",periods=30,freq =\"D\")"
      ],
      "metadata": {
        "id": "lONo10cvaZXu"
      },
      "execution_count": 3,
      "outputs": []
    },
    {
      "cell_type": "code",
      "source": [
        "data = {\n",
        "    \"Date\":np.tile(dates,len(employee_ids)),\n",
        "    \"Employee_ID\":np.repeat(employee_ids,len(dates)),\n",
        "    \"Working_Hours\":np.random.uniform(4,10,size=len(employee_ids)*len(dates)).round(2)\n",
        "}\n"
      ],
      "metadata": {
        "id": "HnCjSwZLacQK"
      },
      "execution_count": 4,
      "outputs": []
    },
    {
      "cell_type": "code",
      "source": [
        "df = pd.DataFrame(data)"
      ],
      "metadata": {
        "id": "QyG8A0j5afWV"
      },
      "execution_count": 5,
      "outputs": []
    },
    {
      "cell_type": "code",
      "source": [
        "df.to_csv(\"employee_working_hours.csv\", index=False)"
      ],
      "metadata": {
        "id": "uDJmseGAaidj"
      },
      "execution_count": 6,
      "outputs": []
    },
    {
      "cell_type": "code",
      "source": [
        "df_csv = pd.read_csv(\"employee_working_hours.csv\")"
      ],
      "metadata": {
        "id": "lEC-ZtRQal_k"
      },
      "execution_count": 7,
      "outputs": []
    },
    {
      "cell_type": "code",
      "source": [
        "print(df_csv.head())\n",
        "print(df_csv.describe())\n",
        "print(df_csv[\"Employee_ID\"].nunique())\n"
      ],
      "metadata": {
        "colab": {
          "base_uri": "https://localhost:8080/"
        },
        "id": "FbprmxLIapXU",
        "outputId": "3121ac2d-1194-44e8-d256-666dc3a2ee63"
      },
      "execution_count": 8,
      "outputs": [
        {
          "output_type": "stream",
          "name": "stdout",
          "text": [
            "         Date Employee_ID  Working_Hours\n",
            "0  2025-07-01     EMP_001           6.25\n",
            "1  2025-07-02     EMP_001           9.70\n",
            "2  2025-07-03     EMP_001           8.39\n",
            "3  2025-07-04     EMP_001           7.59\n",
            "4  2025-07-05     EMP_001           4.94\n",
            "       Working_Hours\n",
            "count     900.000000\n",
            "mean        6.954233\n",
            "std         1.762088\n",
            "min         4.030000\n",
            "25%         5.387500\n",
            "50%         7.010000\n",
            "75%         8.490000\n",
            "max        10.000000\n",
            "30\n"
          ]
        }
      ]
    },
    {
      "cell_type": "code",
      "source": [
        "total_hours = df_csv.groupby(\"Employee_ID\")[\"Working_Hours\"].sum().sort_values(ascending=False)\n",
        "print(total_hours)\n"
      ],
      "metadata": {
        "colab": {
          "base_uri": "https://localhost:8080/"
        },
        "id": "eiKYHheOar6J",
        "outputId": "16ee052c-98c0-4e03-929e-b10645560153"
      },
      "execution_count": 10,
      "outputs": [
        {
          "output_type": "stream",
          "name": "stdout",
          "text": [
            "Employee_ID\n",
            "EMP_009    228.84\n",
            "EMP_018    226.10\n",
            "EMP_017    225.95\n",
            "EMP_014    224.92\n",
            "EMP_027    220.85\n",
            "EMP_025    214.07\n",
            "EMP_026    212.33\n",
            "EMP_016    211.56\n",
            "EMP_007    210.91\n",
            "EMP_010    210.88\n",
            "EMP_008    210.81\n",
            "EMP_011    210.77\n",
            "EMP_028    209.51\n",
            "EMP_019    209.42\n",
            "EMP_002    209.37\n",
            "EMP_004    208.46\n",
            "EMP_013    207.72\n",
            "EMP_003    206.79\n",
            "EMP_015    206.67\n",
            "EMP_024    204.46\n",
            "EMP_006    204.29\n",
            "EMP_023    203.64\n",
            "EMP_005    202.07\n",
            "EMP_022    200.73\n",
            "EMP_020    199.91\n",
            "EMP_029    199.89\n",
            "EMP_001    198.96\n",
            "EMP_012    196.52\n",
            "EMP_021    192.18\n",
            "EMP_030    190.23\n",
            "Name: Working_Hours, dtype: float64\n"
          ]
        }
      ]
    },
    {
      "cell_type": "code",
      "source": [
        "avg_daily = df_csv.groupby(\"Employee_ID\")[\"Working_Hours\"].mean()\n",
        "print(avg_daily)"
      ],
      "metadata": {
        "colab": {
          "base_uri": "https://localhost:8080/"
        },
        "id": "tntvDYUoavT8",
        "outputId": "a5c6b4f0-1249-4eae-b28c-d45897e2bc6e"
      },
      "execution_count": 11,
      "outputs": [
        {
          "output_type": "stream",
          "name": "stdout",
          "text": [
            "Employee_ID\n",
            "EMP_001    6.632000\n",
            "EMP_002    6.979000\n",
            "EMP_003    6.893000\n",
            "EMP_004    6.948667\n",
            "EMP_005    6.735667\n",
            "EMP_006    6.809667\n",
            "EMP_007    7.030333\n",
            "EMP_008    7.027000\n",
            "EMP_009    7.628000\n",
            "EMP_010    7.029333\n",
            "EMP_011    7.025667\n",
            "EMP_012    6.550667\n",
            "EMP_013    6.924000\n",
            "EMP_014    7.497333\n",
            "EMP_015    6.889000\n",
            "EMP_016    7.052000\n",
            "EMP_017    7.531667\n",
            "EMP_018    7.536667\n",
            "EMP_019    6.980667\n",
            "EMP_020    6.663667\n",
            "EMP_021    6.406000\n",
            "EMP_022    6.691000\n",
            "EMP_023    6.788000\n",
            "EMP_024    6.815333\n",
            "EMP_025    7.135667\n",
            "EMP_026    7.077667\n",
            "EMP_027    7.361667\n",
            "EMP_028    6.983667\n",
            "EMP_029    6.663000\n",
            "EMP_030    6.341000\n",
            "Name: Working_Hours, dtype: float64\n"
          ]
        }
      ]
    },
    {
      "cell_type": "code",
      "source": [
        "threshold_low = 5\n",
        "threshold_high = 9\n",
        "df_csv[\"Low_Hours_Flag\"] = df_csv[\"Working_Hours\"] < threshold_low\n",
        "df_csv[\"High_Hours_Flag\"] = df_csv[\"Working_Hours\"] > threshold_high\n",
        "print(df_csv[df_csv[\"Low_Hours_Flag\"] | df_csv[\"High_Hours_Flag\"]].head())"
      ],
      "metadata": {
        "colab": {
          "base_uri": "https://localhost:8080/"
        },
        "id": "b-qWi6Epa3-T",
        "outputId": "38010143-95a7-497d-c7be-b82b0ca15a69"
      },
      "execution_count": 12,
      "outputs": [
        {
          "output_type": "stream",
          "name": "stdout",
          "text": [
            "         Date Employee_ID  Working_Hours  Low_Hours_Flag  High_Hours_Flag\n",
            "1  2025-07-02     EMP_001           9.70           False             True\n",
            "4  2025-07-05     EMP_001           4.94            True            False\n",
            "5  2025-07-06     EMP_001           4.94            True            False\n",
            "6  2025-07-07     EMP_001           4.35            True            False\n",
            "7  2025-07-08     EMP_001           9.20           False             True\n"
          ]
        }
      ]
    },
    {
      "cell_type": "code",
      "source": [
        "import matplotlib.pyplot as plt\n",
        "import seaborn as sns\n",
        "\n",
        "top10 = total_hours.head(10)\n",
        "\n",
        "plt.figure(figsize=(10, 5))\n",
        "\n",
        "# Use a rainbow color palette\n",
        "sns.barplot(x=top10.index, y=top10.values, palette=sns.color_palette(\"rainbow\", n_colors=10))\n",
        "\n",
        "plt.xticks(rotation=45)\n",
        "plt.title(\"Top 10 Employees by Total Working Hours\")\n",
        "plt.ylabel(\"Hours\")\n",
        "plt.tight_layout()\n",
        "plt.show()"
      ],
      "metadata": {
        "colab": {
          "base_uri": "https://localhost:8080/",
          "height": 594
        },
        "id": "MM3UeoXla7gS",
        "outputId": "7d57b016-17fd-4dbc-a6cc-39942e419e82"
      },
      "execution_count": 13,
      "outputs": [
        {
          "output_type": "stream",
          "name": "stderr",
          "text": [
            "/tmp/ipython-input-3697240918.py:9: FutureWarning: \n",
            "\n",
            "Passing `palette` without assigning `hue` is deprecated and will be removed in v0.14.0. Assign the `x` variable to `hue` and set `legend=False` for the same effect.\n",
            "\n",
            "  sns.barplot(x=top10.index, y=top10.values, palette=sns.color_palette(\"rainbow\", n_colors=10))\n"
          ]
        },
        {
          "output_type": "display_data",
          "data": {
            "text/plain": [
              "<Figure size 1000x500 with 1 Axes>"
            ],
            "image/png": "[encoded data removed]"
          },
          "metadata": {}
        }
      ]
    },
    {
      "cell_type": "code",
      "source": [
        "row = df_csv[df_csv[\"Employee_ID\"].str.strip() == \"EMP_001\"]\n",
        "print(row)"
      ],
      "metadata": {
        "colab": {
          "base_uri": "https://localhost:8080/"
        },
        "id": "Jnyz1JuEa_nv",
        "outputId": "5ddd4190-4440-45d4-faa8-b209696d7baf"
      },
      "execution_count": 14,
      "outputs": [
        {
          "output_type": "stream",
          "name": "stdout",
          "text": [
            "          Date Employee_ID  Working_Hours  Low_Hours_Flag  High_Hours_Flag\n",
            "0   2025-07-01     EMP_001           6.25           False            False\n",
            "1   2025-07-02     EMP_001           9.70           False             True\n",
            "2   2025-07-03     EMP_001           8.39           False            False\n",
            "3   2025-07-04     EMP_001           7.59           False            False\n",
            "4   2025-07-05     EMP_001           4.94            True            False\n",
            "5   2025-07-06     EMP_001           4.94            True            False\n",
            "6   2025-07-07     EMP_001           4.35            True            False\n",
            "7   2025-07-08     EMP_001           9.20           False             True\n",
            "8   2025-07-09     EMP_001           7.61           False            False\n",
            "9   2025-07-10     EMP_001           8.25           False            False\n",
            "10  2025-07-11     EMP_001           4.12            True            False\n",
            "11  2025-07-12     EMP_001           9.82           False             True\n",
            "12  2025-07-13     EMP_001           8.99           False            False\n",
            "13  2025-07-14     EMP_001           5.27           False            False\n",
            "14  2025-07-15     EMP_001           5.09           False            False\n",
            "15  2025-07-16     EMP_001           5.10           False            False\n",
            "16  2025-07-17     EMP_001           5.83           False            False\n",
            "17  2025-07-18     EMP_001           7.15           False            False\n",
            "18  2025-07-19     EMP_001           6.59           False            False\n",
            "19  2025-07-20     EMP_001           5.75           False            False\n",
            "20  2025-07-21     EMP_001           7.67           False            False\n",
            "21  2025-07-22     EMP_001           4.84            True            False\n",
            "22  2025-07-23     EMP_001           5.75           False            False\n",
            "23  2025-07-24     EMP_001           6.20           False            False\n",
            "24  2025-07-25     EMP_001           6.74           False            False\n",
            "25  2025-07-26     EMP_001           8.71           False            False\n",
            "26  2025-07-27     EMP_001           5.20           False            False\n",
            "27  2025-07-28     EMP_001           7.09           False            False\n",
            "28  2025-07-29     EMP_001           7.55           False            False\n",
            "29  2025-07-30     EMP_001           4.28            True            False\n"
          ]
        }
      ]
    },
    {
      "cell_type": "code",
      "source": [],
      "metadata": {
        "id": "Ggt0RJEBbC02"
      },
      "execution_count": null,
      "outputs": []
    }
  ]
}